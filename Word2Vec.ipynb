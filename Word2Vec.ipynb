{
  "cells": [
    {
      "cell_type": "markdown",
      "metadata": {
        "colab_type": "text",
        "id": "view-in-github"
      },
      "source": [
        "<a href=\"https://colab.research.google.com/github/knilkantha/Word2Vec/blob/main/Word2Vec.ipynb\" target=\"_parent\"><img src=\"https://colab.research.google.com/assets/colab-badge.svg\" alt=\"Open In Colab\"/></a>"
      ]
    },
    {
      "cell_type": "markdown",
      "metadata": {
        "id": "O6sLFDnF5aku"
      },
      "source": [
        "First add bin file to your drive, easiest way is sharing bin file from available google drive link to your drive and use that in below code.\n",
        "\n",
        "[Drive link of word2vec-GoogleNews-vectors bin file](https://drive.google.com/file/d/0B7XkCwpI5KDYNlNUTTlSS21pQmM/edit?usp=sharing)"
      ]
    },
    {
      "cell_type": "code",
      "execution_count": 8,
      "metadata": {
        "colab": {
          "base_uri": "https://localhost:8080/"
        },
        "id": "0USJP0XO9IVz",
        "outputId": "36e71170-0ddc-42bd-cd0a-a38957c8b3ca"
      },
      "outputs": [
        {
          "name": "stdout",
          "output_type": "stream",
          "text": [
            "Drive already mounted at /content/drive; to attempt to forcibly remount, call drive.mount(\"/content/drive\", force_remount=True).\n"
          ]
        }
      ],
      "source": [
        "from google.colab import drive\n",
        "drive.mount('/content/drive')\n",
        "\n"
      ]
    },
    {
      "cell_type": "code",
      "execution_count": 24,
      "metadata": {
        "colab": {
          "base_uri": "https://localhost:8080/"
        },
        "id": "YDEMqt822f_d",
        "outputId": "b4c3b42c-3521-490b-8f47-265a843e7d92"
      },
      "outputs": [
        {
          "name": "stdout",
          "output_type": "stream",
          "text": [
            "/content\n"
          ]
        }
      ],
      "source": [
        "!pwd #check current directory path"
      ]
    },
    {
      "cell_type": "code",
      "execution_count": null,
      "metadata": {
        "id": "E5w-oFNa8-tU"
      },
      "outputs": [],
      "source": [
        "!ls -lh #Checking content of current folder"
      ]
    },
    {
      "cell_type": "code",
      "execution_count": null,
      "metadata": {
        "id": "4NYVN7HS9oP8"
      },
      "outputs": [],
      "source": [
        "%cd /content/drive/MyDrive/Colab Notebooks \n",
        "#Moving directory to my \"Colab Notebooks\" folder in gdrive where I have shared (added shortcut) bin file"
      ]
    },
    {
      "cell_type": "code",
      "execution_count": null,
      "metadata": {
        "id": "xubLTxeA6Qhr"
      },
      "outputs": [],
      "source": [
        "!ls -lh #Checking content of current folder"
      ]
    },
    {
      "cell_type": "code",
      "execution_count": null,
      "metadata": {
        "id": "VBCK0Wyf8LX7"
      },
      "outputs": [],
      "source": [
        "!pip install gensim #installing gensim module\n"
      ]
    },
    {
      "cell_type": "code",
      "execution_count": 35,
      "metadata": {
        "id": "00GaEca846g8"
      },
      "outputs": [],
      "source": [
        "from gensim.models import KeyedVectors\n",
        "\n",
        "# Load Google's pre-trained Word2Vec model.\n",
        "model = KeyedVectors.load_word2vec_format('GoogleNews-vectors-negative300.bin.gz', binary=True)\n"
      ]
    },
    {
      "cell_type": "code",
      "execution_count": 49,
      "metadata": {
        "colab": {
          "base_uri": "https://localhost:8080/"
        },
        "id": "QCBGMfu9BT7x",
        "outputId": "3c7dc703-2b20-431e-c450-d75016bdfecc"
      },
      "outputs": [
        {
          "name": "stdout",
          "output_type": "stream",
          "text": [
            "Words similar to 'king': [('kings', 0.7138045430183411), ('queen', 0.6510956883430481), ('monarch', 0.6413194537162781), ('crown_prince', 0.6204220056533813), ('prince', 0.6159993410110474)]\n"
          ]
        }
      ],
      "source": [
        "# Find the most similar words to a given word\n",
        "similar_words = model.most_similar('king', topn=5)\n",
        "print(\"Words similar to 'king':\", similar_words)"
      ]
    },
    {
      "cell_type": "markdown",
      "metadata": {
        "id": "L27TQZp1AiEL"
      },
      "source": [
        "**Similarity of word representations goes beyond simple syntactic regularities.**\n",
        "\n",
        "Using a word offset technique where simple algebraic operations are per-\n",
        "formed on the word vectors can provide more relation.\n",
        "\n",
        "For example that vector(”King”) - vector(”Man”) + vector(”Woman”) results in a vector that is closest to the vector representation of the word Queen."
      ]
    },
    {
      "cell_type": "code",
      "execution_count": 47,
      "metadata": {
        "colab": {
          "base_uri": "https://localhost:8080/"
        },
        "id": "Xn0No_wL6iDo",
        "outputId": "4d953124-dcaa-4860-ef1e-3fe764aae916"
      },
      "outputs": [
        {
          "name": "stdout",
          "output_type": "stream",
          "text": [
            "Result of 'king -man + woman': [('queen', 0.7118193507194519)]\n",
            "[('queen', 0.7118193507194519)]\n"
          ]
        }
      ],
      "source": [
        "result = model.most_similar(positive=['king', 'woman'], negative=['man'], topn=1)\n",
        "print(\"Result of 'king -man + woman':\", result)"
      ]
    },
    {
      "cell_type": "code",
      "execution_count": 50,
      "metadata": {
        "colab": {
          "base_uri": "https://localhost:8080/"
        },
        "id": "9s7fksGp6loe",
        "outputId": "2a335e62-b25f-4718-aca6-0ae5eeb475d0"
      },
      "outputs": [
        {
          "name": "stdout",
          "output_type": "stream",
          "text": [
            "[('smallest', 0.6086567640304565)]\n"
          ]
        }
      ],
      "source": [
        "#Another Example\n",
        "result_1 = model.most_similar(positive=['biggest', 'small'], negative=['big'], topn=1)\n",
        "\n",
        "print(result_1)"
      ]
    }
  ],
  "metadata": {
    "colab": {
      "authorship_tag": "ABX9TyOaPBNq4lrXJ5WDPslRybJt",
      "include_colab_link": true,
      "provenance": []
    },
    "kernelspec": {
      "display_name": "Python 3",
      "name": "python3"
    },
    "language_info": {
      "codemirror_mode": {
        "name": "ipython",
        "version": 3
      },
      "file_extension": ".py",
      "mimetype": "text/x-python",
      "name": "python",
      "nbconvert_exporter": "python",
      "pygments_lexer": "ipython3",
      "version": "3.11.5"
    }
  },
  "nbformat": 4,
  "nbformat_minor": 0
}
